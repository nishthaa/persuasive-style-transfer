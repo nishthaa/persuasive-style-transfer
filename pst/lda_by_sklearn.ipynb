{
 "cells": [
  {
   "cell_type": "code",
   "execution_count": 22,
   "metadata": {
    "scrolled": true
   },
   "outputs": [
    {
     "name": "stdout",
     "output_type": "stream",
     "text": [
      "<class 'str'>\n"
     ]
    }
   ],
   "source": [
    "from sklearn.feature_extraction.text import TfidfVectorizer, CountVectorizer\n",
    "from sklearn.datasets import fetch_20newsgroups\n",
    "from sklearn.decomposition import NMF, LatentDirichletAllocation\n",
    "import os\n",
    "\n",
    "\n",
    "def display_topics(model, feature_names, no_top_words):\n",
    "    for topic_idx, topic in enumerate(model.components_):\n",
    "        print(\"Topic %d:\" % (topic_idx))\n",
    "        print(\" \".join([feature_names[i]\n",
    "                        for i in topic.argsort()[:-no_top_words - 1:-1]]))\n",
    "\n",
    "documents = []\n",
    "\n",
    "DIR_LINK = \"convote_v1.1/data_stage_one/training_set/\"\n",
    "\n",
    "docs = os.listdir(DIR_LINK)\n",
    "\n",
    "for i in range(100):\n",
    "   \n",
    "    fh = open(DIR_LINK+docs[i])\n",
    "    text = fh.read()\n",
    "    documents.append(text)\n",
    "    \n",
    "\n",
    "print(type(documents[0]))\n",
    "\n",
    "# dataset = fetch_20newsgroups(shuffle=True, random_state=1, remove=('headers', 'footers', 'quotes'))\n",
    "# documents = dataset.data\n",
    "# print(documents[:2])"
   ]
  },
  {
   "cell_type": "code",
   "execution_count": 23,
   "metadata": {},
   "outputs": [
    {
     "name": "stderr",
     "output_type": "stream",
     "text": [
      "/usr/local/lib/python3.6/site-packages/sklearn/decomposition/online_lda.py:294: DeprecationWarning: n_topics has been renamed to n_components in version 0.19 and will be removed in 0.21\n",
      "  DeprecationWarning)\n"
     ]
    },
    {
     "name": "stdout",
     "output_type": "stream",
     "text": [
      "Topic 0:\n",
      "gentleman yield chairman mr forward virginia seconds good like look\n",
      "Topic 1:\n",
      "balance time reserve mr speaker yield chairman takes illinois maryland\n",
      "Topic 2:\n",
      "health million people budget education year care today funding going\n",
      "Topic 3:\n",
      "minutes 10 texas mr ms florida seconds georgia need xz4001110\n",
      "Topic 4:\n",
      "speaker mr minute sorry smith jersey ohio time gentleman yield\n",
      "Topic 5:\n",
      "unanimous consent ask withdraw amendment res maryland debate members control\n",
      "Topic 6:\n",
      "madam chairman yield minority gentleman xz4001110 minute texas california does\n",
      "Topic 7:\n",
      "mexico new gentleman yield jersey smith young forth forbes force\n",
      "Topic 8:\n",
      "energy gas oil production renewable percent air power great fuel\n",
      "Topic 9:\n",
      "trade wto organization world countries means agreement continue policies international\n",
      "Topic 10:\n",
      "terri schiavo right family decisions case living disabled families life\n",
      "Topic 11:\n",
      "voted present chairman mr recorded vote record yes congressional responsibility\n",
      "Topic 12:\n",
      "class state federal rights settlements action substitute civil actions hour\n",
      "Topic 13:\n",
      "stay president bush longer said long day iraq democracy timetable\n",
      "Topic 14:\n",
      "submit subject plan congress shall congressional secretary refinery idea oversight\n",
      "Topic 15:\n",
      "gentlewoman ms california yield chairman ohio pleased illinois word friend\n",
      "Topic 16:\n",
      "happy amendment behalf business small america let say think gentlewoman\n",
      "Topic 17:\n",
      "pleased committee member judiciary nadler xz4002890 york distinguished commerce mr\n",
      "Topic 18:\n",
      "wisconsin gentleman program supports week kind ohio president believe thank\n",
      "Topic 19:\n",
      "chair vote recorded minority minute does floor house chairman voice\n",
      "Topic 0:\n",
      "terrorists section united labor level 2006 000 report set workers\n",
      "Topic 1:\n",
      "mr bills women resolved united remains happy appropriations school gentleman\n",
      "Topic 2:\n",
      "amp iraq lt people gt forces iraqi mr resolution 2005\n",
      "Topic 3:\n",
      "region sincerely protects huge measure compares condition california amendment examined\n",
      "Topic 4:\n",
      "law school university professor center credit gt state families women\n",
      "Topic 5:\n",
      "mr time chairman going health proud yield speaker year committee\n",
      "Topic 6:\n",
      "level fiscal important cuts representatives results adoption cut medical vulnerable\n",
      "Topic 7:\n",
      "trade wto million funding support control ohio right michigan mr\n",
      "Topic 8:\n",
      "terri schiavo energy interim does waste report fuel nuclear policy\n",
      "Topic 9:\n",
      "mr gentleman speaker chairman yield time health committee amendment labor\n",
      "Topic 10:\n",
      "wto support agreement framework agricultural subsidies states countries trade world\n",
      "Topic 11:\n",
      "budget 2005 section current year fiscal level report authority 2006\n",
      "Topic 12:\n",
      "law professor school university women support credit lt gt center\n",
      "Topic 13:\n",
      "million chapter march mom law violence state county industry new\n",
      "Topic 14:\n",
      "mom million society march chapter opinion difficult law small revenue\n",
      "Topic 15:\n",
      "energy tax percent today president mr priorities speaker important asked\n",
      "Topic 16:\n",
      "virtually way revenue perspective california thank 2006 protect serve huge\n",
      "Topic 17:\n",
      "great congress defense time department amendment committee fact obligation priorities\n",
      "Topic 18:\n",
      "rights immigrants war immigrant civil groups freedom wake requirements president\n",
      "Topic 19:\n",
      "deficit economy let percent order look chairman regular running mr\n"
     ]
    }
   ],
   "source": [
    "no_features = 1000\n",
    "\n",
    "# NMF is able to use tf-idf\n",
    "tfidf_vectorizer = TfidfVectorizer(max_df=0.95, min_df=2, max_features=no_features, stop_words='english')\n",
    "tfidf = tfidf_vectorizer.fit_transform(documents)\n",
    "tfidf_feature_names = tfidf_vectorizer.get_feature_names()\n",
    "\n",
    "# LDA can only use raw term counts for LDA because it is a probabilistic graphical model\n",
    "tf_vectorizer = CountVectorizer(max_df=0.95, min_df=2, max_features=no_features, stop_words='english')\n",
    "tf = tf_vectorizer.fit_transform(documents)\n",
    "tf_feature_names = tf_vectorizer.get_feature_names()\n",
    "\n",
    "no_topics = 20\n",
    "\n",
    "# Run NMF\n",
    "nmf = NMF(n_components=no_topics, random_state=1, alpha=.1, l1_ratio=.5, init='nndsvd').fit(tfidf)\n",
    "\n",
    "# Run LDA\n",
    "lda = LatentDirichletAllocation(n_topics=no_topics, max_iter=5, learning_method='online', learning_offset=50.,random_state=0).fit(tf)\n",
    "\n",
    "no_top_words = 10\n",
    "display_topics(nmf, tfidf_feature_names, no_top_words)\n",
    "display_topics(lda, tf_feature_names, no_top_words)"
   ]
  },
  {
   "cell_type": "code",
   "execution_count": null,
   "metadata": {},
   "outputs": [],
   "source": []
  }
 ],
 "metadata": {
  "kernelspec": {
   "display_name": "Python 3",
   "language": "python",
   "name": "python3"
  },
  "language_info": {
   "codemirror_mode": {
    "name": "ipython",
    "version": 3
   },
   "file_extension": ".py",
   "mimetype": "text/x-python",
   "name": "python",
   "nbconvert_exporter": "python",
   "pygments_lexer": "ipython3",
   "version": "3.6.4"
  }
 },
 "nbformat": 4,
 "nbformat_minor": 2
}
